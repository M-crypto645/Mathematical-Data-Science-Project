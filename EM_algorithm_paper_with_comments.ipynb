{
 "cells": [
  {
   "cell_type": "markdown",
   "metadata": {},
   "source": [
    "# Python code used for the implementation of the EM algorithm\n",
    "## by Martin Metodiev, Ariane Fazeny, Daniela Bernhard\n",
    "### 1 Implementation and visualization of the algorithm"
   ]
  },
  {
   "cell_type": "markdown",
   "metadata": {},
   "source": [
    "For the implementation and visualization of the EM Algorithm, parts of the sample code from the lecture were used. "
   ]
  },
  {
   "cell_type": "code",
   "execution_count": 1,
   "metadata": {},
   "outputs": [],
   "source": [
    "import numpy as np\n",
    "import matplotlib as mpl\n",
    "import matplotlib.pyplot as plt\n",
    "import numpy as np\n",
    "import matplotlib.pyplot as plt\n",
    "from matplotlib.patches import Ellipse\n",
    "import matplotlib.transforms as transforms\n",
    "from math import sqrt, pi\n",
    "from matplotlib.widgets import Slider, Button\n",
    "np.random.seed(3)\n",
    "\n",
    "colors = [\"#cccc00\", \"#006600\", \"m\", \"b\", \"r\"]"
   ]
  },
  {
   "cell_type": "markdown",
   "metadata": {},
   "source": [
    "This EM Algorithm has been programmed for NxM-dimensional data sets. We assume a gaussian mixture\n",
    "\n",
    "\\begin{align}\\sum^K_{k=1}\\pi_k\\mathcal{N}(x|\\mu_k,\\Sigma_k)\\end{align}\n",
    "\n",
    "Names of the parameters:\n",
    "\n",
    "$\\textbf{data}$: NxM dimensional data set\n",
    "\n",
    "$\\textbf{K}$: Number of clusters\n",
    "\n",
    "$\\textbf{m}$: Matrix of means $\\mu_1,\\dots,\\mu_K$\n",
    "\n",
    "$\\textbf{random_choice}$: If True, parameters are initialized randomly.\n",
    "\n",
    "$\\textbf{Sigma}$: Cov-matrix Sigma=$\\Sigma=\\Sigma_1,\\dots,\\Sigma_K$\n",
    "\n",
    "$\\textbf{gamma}$: NxK Matrix of responsibilities $\\gamma_{nk}$\n",
    "\n",
    "$\\textbf{p}$: The prior distribution $\\pi_1,\\dots,\\pi_K$\n",
    "\n",
    "We divide the EM algorithm into several steps:"
   ]
  },
  {
   "cell_type": "markdown",
   "metadata": {},
   "source": [
    "#### 1.1 Initialization"
   ]
  },
  {
   "cell_type": "markdown",
   "metadata": {},
   "source": [
    "If random_choice=True, we randomly initialize all of the parameters:\n",
    "\n",
    "m=$\\mu_1,\\dots,\\mu_K$ are assigned realizations of the uniform distribution on ranging from the minimum to the maximum value of all data points.\n",
    "\n",
    "Sigma=$3\\cdot I$ where $I$ denots the unit matrix.\n",
    "\n",
    "gamma=$1/K\\cdot O$ where $O$ is an NxK matrix consisting of only 1s.\n",
    "\n",
    "p=the discrete uniform distribution on $\\{1,\\dots,K\\}$"
   ]
  },
  {
   "cell_type": "code",
   "execution_count": 2,
   "metadata": {},
   "outputs": [],
   "source": [
    "def initialize(N, M, sigma_def = 3):\n",
    "    #random initialization\n",
    "    m = np.zeros((K, M))\n",
    "    for mm in range(M):\n",
    "        m[:, mm] = np.random.uniform(np.min(data[:,mm]), np.max(data[:,mm]), (K, ))\n",
    "    Sigma = [sigma_def*np.eye(M) for kk in range(K)]\n",
    "    gamma = 1/K*np.ones((N,K), dtype=np.int32)\n",
    "    p = 1/K*np.ones((K,))\n",
    "    return m, Sigma, gamma, p"
   ]
  },
  {
   "cell_type": "markdown",
   "metadata": {},
   "source": [
    "#### 1.2 Update of the loglikelihood\n",
    "\n",
    "We update the loglikelihood function by adding the joint distribution."
   ]
  },
  {
   "cell_type": "code",
   "execution_count": 3,
   "metadata": {},
   "outputs": [],
   "source": [
    "def Update_log_likelihood(data, p, Sigma, m):\n",
    "    likeli_new = 0\n",
    "    M = data.shape[1]\n",
    "    N = data.shape[0]\n",
    "    for n in range(N):\n",
    "        x = data[n, :]\n",
    "        terms = np.array([p[k]*1/sqrt((2*pi)**M*np.linalg.det(Sigma[k])) * np.exp(-0.5*(x-m[k,:]) @ (np.linalg.inv(Sigma[k]) @ (x-m[k,:]))) for k in range(K)])\n",
    "        likeli_new = likeli_new + np.log(np.sum(terms))\n",
    "    return likeli_new\n",
    "    "
   ]
  },
  {
   "cell_type": "markdown",
   "metadata": {},
   "source": [
    "#### 1.3 E-Step"
   ]
  },
  {
   "cell_type": "markdown",
   "metadata": {},
   "source": [
    "The E-step is executed exactly as described in the algorithm."
   ]
  },
  {
   "cell_type": "code",
   "execution_count": 4,
   "metadata": {},
   "outputs": [],
   "source": [
    "def E_step(data, p, Sigma, m, gamma):\n",
    "    M = data.shape[1]\n",
    "    N = data.shape[0]\n",
    "    for n in range(N):\n",
    "        x = data[n, :]\n",
    "        terms = np.array([p[k]*1/sqrt((2*pi)**M*np.linalg.det(Sigma[k])) * np.exp(-0.5*(x-m[k,:]) @ (np.linalg.inv(Sigma[k]) @ (x-m[k,:]))) for k in range(K)])\n",
    "        gamma[n, :] = terms/np.sum(terms)\n",
    "    return gamma"
   ]
  },
  {
   "cell_type": "markdown",
   "metadata": {},
   "source": [
    "#### 1.4 M-Step"
   ]
  },
  {
   "cell_type": "markdown",
   "metadata": {},
   "source": [
    "The M-Step is also executed as described."
   ]
  },
  {
   "cell_type": "code",
   "execution_count": 5,
   "metadata": {},
   "outputs": [],
   "source": [
    "def M_Step(data, p, Sigma, m, gamma):\n",
    "    M = data.shape[1]\n",
    "    N = data.shape[0]\n",
    "    means = np.dot(gamma.T, data)\n",
    "    Nk = [np.sum(gamma[:, k]) for k in range(K)]\n",
    "    m_new = np.array([ means[k, :] / Nk[k] for k in range(K)])\n",
    "\n",
    "    m = m_new\n",
    "\n",
    "    Sigma_new = [np.zeros((M, M)) for k in range(K)]\n",
    "    for k in range(K):\n",
    "        Sigmak = np.zeros((M,M))\n",
    "        for n in range(N):\n",
    "            x = data[n, :]\n",
    "            Sigmak += gamma[n, k] * np.dot((x-m[k,:]).reshape((-1,1)), (x-m[k,:]).reshape((1,-1)))\n",
    "        Sigma_new[k] = Sigmak / Nk[k] \n",
    "\n",
    "    Sigma = [np.copy(Sigma_new[k]) for k in range(K)]\n",
    "\n",
    "    p = np.array([Nk[k]/N for k in range(K)])\n",
    "    \n",
    "    return m, Sigma, p"
   ]
  },
  {
   "cell_type": "markdown",
   "metadata": {},
   "source": [
    "#### 1.5 Plots via Matplotbib"
   ]
  },
  {
   "cell_type": "markdown",
   "metadata": {},
   "source": [
    "Code from the exercises was used to visualize the algorithm. Legend:\n",
    "\n",
    "$\\textbf{Color}$: The more similar the color is to the cluster, the higher is the probability that it belongs to said cluster."
   ]
  },
  {
   "cell_type": "code",
   "execution_count": 6,
   "metadata": {},
   "outputs": [],
   "source": [
    "# matplotlib ellipse plotter (from matplotlib.org)\n",
    "\n",
    "def colorFader(c1,c2,mix=0): #fade (linear interpolate) from color c1 (at mix=0) to c2 (mix=1)\n",
    "    c1=np.array(mpl.colors.to_rgb(c1))\n",
    "    c2=np.array(mpl.colors.to_rgb(c2))\n",
    "    return mpl.colors.to_hex((1-mix)*c1 + mix*c2)\n",
    "\n",
    "def drawfig(it, m, m_history, n_iter, Sigma, Sigma_history, p, p_history, gamma, gamma_history):\n",
    "        plt.figure()\n",
    "        ax1 = plt.subplot(1,2,1)\n",
    "        ax2 = plt.subplot(1,2,2)\n",
    "        ax1.set_xlim([xmin-0.5, xmax+0.5])\n",
    "        ax1.set_ylim([ymin-0.5, ymax+0.5])\n",
    "        m_now = m_history[it+1, :, :]\n",
    "        m_old = m_history[it, :, :]\n",
    "        \n",
    "        gamma_now = gamma_history[it+1, :]\n",
    "        Sigma_now = Sigma_history[it+1]\n",
    "        Sigma_old = Sigma_history[it]\n",
    "\n",
    "        \n",
    "        for k in range(K):\n",
    "            ax1.plot(m_old[k, 0], m_old[k, 1], color = colors[k], marker = \"s\", markeredgecolor=\"k\", markersize=10)\n",
    "        \n",
    "        \n",
    "        \n",
    "        if K == 2: # linear interpolation between colors possible\n",
    "            mixcoeffs = gamma_now[:, 1]\n",
    "            sc = ax1.scatter(data[:, 0], data[:, 1], c=[colorFader(colors[0],colors[1],mixc) for mixc in mixcoeffs], s=45, zorder=2)\n",
    "            \n",
    "        else: # for more clusters we can only color with the dominant cluster :(\n",
    "            cs_index = [int(list(gamma_now[n, :]).index(max(gamma_now[n, :]))) for n in range(N)]\n",
    "            ax1.scatter(data[:, 0], data[:, 1], c=[colors[csi] for csi in cs_index], s=45, zorder=2)\n",
    "        \n",
    "        ax2.set_xlim([xmin-0.5, xmax+0.5])\n",
    "        ax2.set_ylim([ymin-0.5, ymax+0.5])\n",
    "        \n",
    "        for k in range(K):\n",
    "            ax2.plot(m_now[k, 0], m_now[k, 1], color = colors[k], marker = \"s\", markeredgecolor=\"k\", markersize=10)\n",
    "                        \n",
    "        if K == 2: # linear interpolation between colors possible\n",
    "            mixcoeffs = gamma_now[:, 1]\n",
    "            sc = ax2.scatter(data[:, 0], data[:, 1], c=[colorFader(colors[0],colors[1],mixc) for mixc in mixcoeffs], s=45, zorder=2)\n",
    "            \n",
    "        else: # for more clusters we can only color with the dominant cluster :(\n",
    "            cs_index = [int(list(gamma_now[n, :]).index(max(gamma_now[n, :]))) for n in range(N)]\n",
    "            ax2.scatter(data[:, 0], data[:, 1], c=[colors[csi] for csi in cs_index], s=45, zorder=2)\n",
    "        \n",
    "        ax1.set_title(\"iteration \" + str(it) + \": after assignment\")\n",
    "        ax2.set_title(\"iteration \" + str(it) + \": after update\")\n",
    "        plt.title(\"iteration \" + str(it) + \": after update\")\n",
    "        ax1.set_aspect('equal')\n",
    "        ax2.set_aspect('equal')\n",
    "        plt.show()\n",
    "\n",
    "def plotting(ret, just):\n",
    "        m = ret[\"m\"]\n",
    "        m_history = ret[\"m_history\"]\n",
    "    \n",
    "        n_iter = m_history.shape[0] - 1\n",
    "    \n",
    "        Sigma = ret[\"Sigma\"]\n",
    "        Sigma_history = ret[\"Sigma_history\"]\n",
    "        p = ret[\"p\"]\n",
    "        p_history = ret[\"p_history\"]\n",
    "        gamma = ret[\"gamma\"]\n",
    "        gamma_history = ret[\"gamma_history\"]\n",
    "        likelihood = ret['likelihood']\n",
    "            \n",
    "        plt.ion()\n",
    "        if just_last == True:\n",
    "            drawfig(m_history.shape[0]-3, m, m_history, n_iter, Sigma, Sigma_history, p, p_history, gamma, gamma_history)\n",
    "            #initial      \n",
    "            plt.figure()\n",
    "            ax1 = plt.subplot(1,2,1)\n",
    "            ax1.set_xlim([xmin-0.5, xmax+0.5])\n",
    "            ax1.set_ylim([ymin-0.5, ymax+0.5])\n",
    "            ax1.scatter(first[:, 0], first[:, 1])\n",
    "            ax1.scatter(second[:, 0], second[:, 1])\n",
    "            ax1.set_title(\"initial clusters\")\n",
    "            plt.show()\n",
    "    \n",
    "            #likelihood\n",
    "            plt.figure()\n",
    "            ax1 = plt.subplot(1,1,1)\n",
    "            ax1.set_xlim([0, len(likelihood)-1])\n",
    "            ax1.set_ylim([min(likelihood)-1, max(likelihood)+1])\n",
    "            plt.plot(likelihood)\n",
    "            ax1.set_title(\"values of loglikelihood\")\n",
    "            plt.show()\n",
    "        else:\n",
    "            for it in range(m_history.shape[0]-2):\n",
    "                drawfig(it, m, m_history, n_iter, Sigma, Sigma_history, p, p_history, gamma, gamma_history)\n",
    "                #initial      \n",
    "                plt.figure()\n",
    "                ax1 = plt.subplot(1,2,1)\n",
    "                ax1.set_xlim([xmin-0.5, xmax+0.5])\n",
    "                ax1.set_ylim([ymin-0.5, ymax+0.5])\n",
    "                ax1.scatter(first[:, 0], first[:, 1])\n",
    "                ax1.scatter(second[:, 0], second[:, 1])\n",
    "                ax1.set_title(\"initial clusters\")\n",
    "                plt.show()\n",
    "\n",
    "                #likelihood\n",
    "                plt.figure()\n",
    "                ax1 = plt.subplot(1,1,1)\n",
    "                ax1.set_xlim([0, len(likelihood)-1])\n",
    "                ax1.set_ylim([min(likelihood)-1, max(likelihood)+1])\n",
    "                plt.plot(likelihood)\n",
    "                ax1.set_title(\"values of loglikelihood\")\n",
    "                plt.show()"
   ]
  },
  {
   "cell_type": "markdown",
   "metadata": {},
   "source": [
    "#### 1.6 Some test Cases"
   ]
  },
  {
   "cell_type": "code",
   "execution_count": 7,
   "metadata": {},
   "outputs": [],
   "source": [
    " def Test_Cases(option = 1):\n",
    "    # Test cases. Fiddle with parameters:\n",
    "    n_iter = 100\n",
    "    K = 2 # number of clusters\n",
    "    \n",
    "    # description of options:\n",
    "    # option 1: three clusters with few points\n",
    "    # option 2: two elongated clusters\n",
    "    # option 3: one large, one small cluster\n",
    "    # option 4: small, dense cluster within large cluster\n",
    "    # option 5: two ring-shaped clusters\n",
    "    # option 6: faithful.csv\n",
    "    \n",
    "    \n",
    "\n",
    "    # END parameters TODO: plot, von welcher normalverteilung Daten ursprünglich erstellt\n",
    "    \n",
    "    if option == 1:\n",
    "        mean1 = np.array([1,0])\n",
    "        sig1 = 0.05*np.eye(2)\n",
    "        mean2 = np.array([0, 1])\n",
    "        sig2 = 0.05*np.eye(2)\n",
    "        mean3 = np.array([2, 1])\n",
    "        sig3 = 0.05*np.eye(2)\n",
    "        first = np.random.multivariate_normal(mean1, sig1, 5)\n",
    "        second = np.random.multivariate_normal(mean2, sig2, 5)\n",
    "        third = np.random.multivariate_normal(mean3, sig3, 5)\n",
    "        data = np.concatenate((first, second, third))\n",
    "        m = np.zeros((K, data.shape[1]))\n",
    "        choice = True\n",
    "    elif option == 2:\n",
    "        mean1 = np.array([1,0])\n",
    "        sig1 = np.diag([1.5, 0.05])\n",
    "        mean2 = np.array([1, 2])\n",
    "        sig2 = np.diag([1.5, 0.05])\n",
    "        data = np.concatenate((np.random.multivariate_normal(mean1, sig1, 25), np.random.multivariate_normal(mean2, sig2, 25)))\n",
    "        m = np.zeros((K, data.shape[1]))\n",
    "        choice = True\n",
    "    elif option == 3:\n",
    "        mean1 = np.array([4, 5])\n",
    "        sig1 = np.diag([0.5, 3])\n",
    "        mean2 = np.array([7, 5])\n",
    "        sig2 = np.diag([0.2, 0.2])\n",
    "        data = np.concatenate((np.random.multivariate_normal(mean1, sig1, 50), np.random.multivariate_normal(mean2, sig2, 10))) \n",
    "        m = np.zeros((K, data.shape[1]))\n",
    "        choice = True\n",
    "    elif option == 4:\n",
    "        mean1 = np.array([1, 1])\n",
    "        sig1 = np.diag([4, 4])\n",
    "        mean2 = np.array([3.5, 1])\n",
    "        sig2 = np.diag([0.01, 0.01])\n",
    "        data = np.concatenate((np.random.multivariate_normal(mean1, sig1, 50), np.random.multivariate_normal(mean2, sig2, 50)))\n",
    "        m = np.zeros((K, data.shape[1]))\n",
    "        choice = True\n",
    "    elif option == 5:\n",
    "        data1 = np.random.normal(0, 1, (40,2))\n",
    "        norms1 = np.tile(np.sqrt(data1[:,0]**2 + data1[:, 1]**2), (2, 1)).T\n",
    "        data1 = data1/(norms1) + np.random.normal(0, 0.05, (40,2))        \n",
    "        data2 = np.random.normal(0, 1, (40,2))\n",
    "        norms2 = np.tile(np.sqrt(data2[:,0]**2 + data2[:, 1]**2), (2, 1)).T\n",
    "        data2 = data2/(0.3*norms2) + np.random.normal(0, 0.05, (40,2))\n",
    "        data = np.concatenate((data1, data2))\n",
    "        m = np.zeros((K, data.shape[1]))\n",
    "        choice = True\n",
    "    elif option == 7: #singularity\n",
    "        mean1 = np.array([1,0])\n",
    "        sig1 = np.diag([0.5, 0.5])\n",
    "        mean2 = np.array([1, 2])\n",
    "        sig2 = np.diag([0.005, 0.005])\n",
    "        first = np.random.multivariate_normal(mean1, sig1, 2)\n",
    "        second = np.random.multivariate_normal(mean2, sig2, 10)\n",
    "        data = np.concatenate((first, second))\n",
    "        m = np.zeros((K, data.shape[1]))\n",
    "        choice = True\n",
    "        \n",
    "    elif option == 8: #maybe not a global maximum\n",
    "        data1 = np.random.normal(0, 1, (40,2))\n",
    "        norms1 = np.tile(np.sqrt(data1[:,0]**2 + data1[:, 1]**2), (2, 1)).T\n",
    "        first = data1/(norms1) + np.random.normal(0, 0.05, (40,2))        \n",
    "        data2 = np.random.normal(0, 1, (40,2))\n",
    "        norms2 = np.tile(np.sqrt(data2[:,0]**2 + data2[:, 1]**2), (2, 1)).T\n",
    "        second = data2/(0.3*norms2) + np.random.normal(0, 0.05, (40,2))\n",
    "        data = np.concatenate((first, second))\n",
    "        m1 = np.zeros((K, data.shape[1]))\n",
    "        choice = False\n",
    "        m1[0,0] = 0\n",
    "        m1[0,1] = -2\n",
    "        m1[1,0] = 0\n",
    "        m1[1,1] = 2\n",
    "        m2 = np.zeros((K, data.shape[1]))\n",
    "        m2[0,0] = 0\n",
    "        m2[0,1] = 0\n",
    "        m2[1,0] = 2\n",
    "        m2[1,1] = -2\n",
    "    elif option == 9: #no global maximum\n",
    "        mean1 = np.array([1,0])\n",
    "        sig1 = np.diag([1.5, 0.05])\n",
    "        mean2 = np.array([1, 2])\n",
    "        sig2 = np.diag([1.5, 0.05])\n",
    "        first = np.random.multivariate_normal(mean1, sig1, 20)\n",
    "        second = np.random.multivariate_normal(mean2, sig2, 20)\n",
    "        data = np.concatenate((first, second))\n",
    "        m = np.zeros((K, data.shape[1]))\n",
    "        m1 = np.zeros((K, data.shape[1]))\n",
    "        choice = False\n",
    "        m1[0,0] = 0\n",
    "        m1[0,1] = -2\n",
    "        m1[1,0] = 0\n",
    "        m1[1,1] = 2\n",
    "        m2 = np.zeros((K, data.shape[1]))\n",
    "        m2[0,0] = -2\n",
    "        m2[0,1] = -1\n",
    "        m2[1,0] = 2\n",
    "        m2[1,1] = -1\n",
    "    elif option == 10:\n",
    "        mean1 = np.array([-1,-2])\n",
    "        sig1 = np.diag([1.5, 0.05])\n",
    "        mean2 = np.array([1, 2])\n",
    "        sig2 = np.diag([1.5, 0.05])\n",
    "        first = np.random.multivariate_normal(mean1, sig1, 20)\n",
    "        second = np.random.multivariate_normal(mean2, sig2, 20)\n",
    "        data = np.concatenate((first, second))\n",
    "        m = np.zeros((K, data.shape[1]))\n",
    "        m1 = np.zeros((K, data.shape[1]))\n",
    "        choice = False\n",
    "        m1[0,0] = -2\n",
    "        m1[0,1] = 2\n",
    "        m1[1,0] = 4\n",
    "        m1[1,1] = -4\n",
    "        m2 = np.zeros((K, data.shape[1]))\n",
    "        m2[0,0] = -2\n",
    "        m2[0,1] = 2\n",
    "        m2[1,0] = 2\n",
    "        m2[1,1] = 2\n",
    "    # find bounding box of data (for plotting purposes)\n",
    "    xmin = np.min(data[:, 0])\n",
    "    xmax = np.max(data[:, 0])\n",
    "    ymin = np.min(data[:, 1])\n",
    "    ymax = np.max(data[:, 1])\n",
    "    dmin = min(xmin, ymin)\n",
    "    dmax = max(xmax, ymax)\n",
    "    \n",
    "    return data, K, m, n_iter, choice, first, second, xmin, xmax, ymin, ymax\n",
    "    #data = np.concatenate((np.random.normal(0, 0.05, (10,)), np.random.normal(1, 0.05, (10,)))).reshape((-1,1))\n",
    "\n"
   ]
  },
  {
   "cell_type": "markdown",
   "metadata": {},
   "source": [
    "#### 1.7 The algorithm\n",
    "\n",
    "There are two criterias for termination:\n",
    "\n",
    "If\n",
    "\n",
    "1 the distance between two iterations is smaller than 1e-10,\n",
    "\n",
    "or\n",
    "\n",
    "2 the determinant of one of the covariance matrices is smaller than 1e-10,\n",
    "\n",
    "the algorithm terminates."
   ]
  },
  {
   "cell_type": "code",
   "execution_count": 8,
   "metadata": {},
   "outputs": [],
   "source": [
    "def EM(data, K, n_iter = 25, return_all_iterations=False, Sigma=False, p=False,m=False):\n",
    "    \n",
    "    #### Initializiation Start ####\n",
    "    \n",
    "    N, M = data.shape # assume: N is number of data points, M is each data point's dimens\n",
    "    likeli = []\n",
    "    gamma_old = None\n",
    "    m_test, Sigma_test, p_test = m, Sigma, p\n",
    "    m, Sigma, gamma, p = initialize(N, M)\n",
    "    if type(m_test) is not bool:\n",
    "        m = m_test\n",
    "    if type(Sigma_test) is not bool:\n",
    "        Sigma = Sigma_test\n",
    "    if type(p_test) is not bool:\n",
    "        p = p_test   \n",
    "\n",
    "    \n",
    "    #### Initialization End ####\n",
    "    \n",
    "    #### Save parameters Start ####\n",
    "      \n",
    "    # if we want to get back all parameters for each single iteration    \n",
    "    if return_all_iterations:\n",
    "        Sigma_history = [[np.copy(Sigma[k]) for k in range(K)]]\n",
    "        m_history = np.zeros((1, K, M))\n",
    "        m_history[0, :, :] = m\n",
    "        gamma_history = np.zeros((1, N, K))\n",
    "        gamma_history[0, :, :] = gamma\n",
    "        p_history = np.zeros((1,K))\n",
    "        p_history[0, :] = p\n",
    "    # if we are only interested in the final clustering result        \n",
    "    else:\n",
    "        m_history = None\n",
    "        Sigma_history = None\n",
    "        gamma_history = None\n",
    "        p_history = None\n",
    "    \n",
    "    #### Save parameters End ####\n",
    "    \n",
    "    #### EM start ####\n",
    "    \n",
    "    likeli_new = Update_log_likelihood(data, p, Sigma, m)\n",
    "    for it in range(n_iter):\n",
    "        likeli.append(likeli_new) \n",
    "        \n",
    "        # assignment step\n",
    "        gamma = E_step(data, p, Sigma, m, gamma)\n",
    "        \n",
    "        \n",
    "            \n",
    "        if return_all_iterations:\n",
    "            gamma_history = np.append(gamma_history, [gamma], 0)\n",
    "        \n",
    "\n",
    "        # update step\n",
    "        m, Sigma, p = M_Step(data, p, Sigma, m, gamma)\n",
    "        \n",
    "        for k in range(K):\n",
    "            if np.linalg.det(Sigma[k]) < 1e-10:\n",
    "                print(\"Covariance singularity!\")\n",
    "                return {\"success\": False, \"m\": m, \"Sigma\": Sigma, \"p\": p, \"gamma\": gamma, \"m_history\": m_history, \"Sigma_history\": Sigma_history, \"p_history\": p_history, \"gamma_history\": gamma_history, 'likelihood':likeli} # return a dictionary\n",
    "        \n",
    "        if return_all_iterations:\n",
    "            m_history = np.append(m_history, [m], 0)\n",
    "            Sigma_history.append([np.copy(Sigma[k]) for k in range(K)])\n",
    "            p_history = np.append(p_history, [p], 0)\n",
    "        likeli_old = likeli_new\n",
    "        likeli_new = Update_log_likelihood(data, p, Sigma, m)\n",
    "        if likeli_new - likeli_old < 10**-8:\n",
    "            break\n",
    "    return {\"success\": True, \"m\": m, \"Sigma\": Sigma, \"p\": p, \"gamma\": gamma, \"m_history\": m_history, \"Sigma_history\": Sigma_history, \"p_history\": p_history, \"gamma_history\": gamma_history, 'likelihood':likeli} # return a dictionary \n",
    "\n",
    "    ### EM End ####"
   ]
  },
  {
   "cell_type": "markdown",
   "metadata": {},
   "source": [
    "#### 1.8 Examples"
   ]
  },
  {
   "cell_type": "code",
   "execution_count": 9,
   "metadata": {},
   "outputs": [],
   "source": [
    "def find_boundary_values(data):\n",
    "    xmin = np.min(data[:, 0])\n",
    "    xmax = np.max(data[:, 0])\n",
    "    ymin = np.min(data[:, 1])\n",
    "    ymax = np.max(data[:, 1])\n",
    "    return xmin, xmax, ymin, ymax"
   ]
  },
  {
   "cell_type": "markdown",
   "metadata": {},
   "source": [
    "##### Example 1: Suboptimal stationary point\n",
    "\n",
    "We observe that the algorithm finds the right clusters with the first initialization in only 6 steps. For the second initialization it needs much more iterations and the result is very different from the given clusters. Here we can see that there is no guarantee for the algorithm to converge to the best solution."
   ]
  },
  {
   "cell_type": "code",
   "execution_count": 10,
   "metadata": {},
   "outputs": [
    {
     "data": {
      "image/png": "[encoded data removed]",
      "text/plain": [
       "<Figure size 432x288 with 2 Axes>"
      ]
     },
     "metadata": {
      "needs_background": "light"
     },
     "output_type": "display_data"
    },
    {
     "data": {
      "image/png": "[encoded data removed]",
      "text/plain": [
       "<Figure size 432x288 with 1 Axes>"
      ]
     },
     "metadata": {
      "needs_background": "light"
     },
     "output_type": "display_data"
    },
    {
     "data": {
      "image/png": "[encoded data removed]",
      "text/plain": [
       "<Figure size 432x288 with 1 Axes>"
      ]
     },
     "metadata": {
      "needs_background": "light"
     },
     "output_type": "display_data"
    }
   ],
   "source": [
    "n_iter = 100\n",
    "K = 2\n",
    "mean1 = np.array([1,0])\n",
    "sig1 = np.diag([1.5, 0.05])\n",
    "mean2 = np.array([1, 2])\n",
    "sig2 = np.diag([1.5, 0.05])\n",
    "first = np.random.multivariate_normal(mean1, sig1, 20)\n",
    "second = np.random.multivariate_normal(mean2, sig2, 20)\n",
    "data = np.concatenate((first, second))\n",
    "m1 = np.zeros((K, data.shape[1]))\n",
    "choice = False\n",
    "m1[0,0] = 0\n",
    "m1[0,1] = -2\n",
    "m1[1,0] = 0\n",
    "m1[1,1] = 2\n",
    "xmin, xmax, ymin, ymax = find_boundary_values(data)\n",
    "just_last = True #parameter, if we only want to draw last\n",
    "ret = EM(data, K, n_iter = n_iter, return_all_iterations=True, m=m1)\n",
    "plotting(ret, just_last)"
   ]
  },
  {
   "cell_type": "code",
   "execution_count": 11,
   "metadata": {},
   "outputs": [
    {
     "data": {
      "image/png": "[encoded data removed]",
      "text/plain": [
       "<Figure size 432x288 with 2 Axes>"
      ]
     },
     "metadata": {
      "needs_background": "light"
     },
     "output_type": "display_data"
    },
    {
     "data": {
      "image/png": "[encoded data removed]",
      "text/plain": [
       "<Figure size 432x288 with 1 Axes>"
      ]
     },
     "metadata": {
      "needs_background": "light"
     },
     "output_type": "display_data"
    },
    {
     "data": {
      "image/png": "[encoded data removed]",
      "text/plain": [
       "<Figure size 432x288 with 1 Axes>"
      ]
     },
     "metadata": {
      "needs_background": "light"
     },
     "output_type": "display_data"
    }
   ],
   "source": [
    "m2 = np.zeros((K, data.shape[1]))\n",
    "m2[0,0] = -2\n",
    "m2[0,1] = -1\n",
    "m2[1,0] = 2\n",
    "m2[1,1] = -1\n",
    "ret = EM(data, K, n_iter = n_iter, return_all_iterations=True, m=m2)\n",
    "plotting(ret, just_last)"
   ]
  },
  {
   "cell_type": "markdown",
   "metadata": {},
   "source": [
    "##### Example 2: Singularity\n",
    "\n",
    "We can see that the mean of the 1st cluster collapses with an initial data point and since all of its points are very close together, the determinant of the corresponding covariance matrix is very small. That's why we obtain the problem we discussed in  Chapter 4."
   ]
  },
  {
   "cell_type": "code",
   "execution_count": 12,
   "metadata": {},
   "outputs": [
    {
     "name": "stdout",
     "output_type": "stream",
     "text": [
      "Covariance singularity!\n"
     ]
    },
    {
     "data": {
      "image/png": "[encoded data removed]",
      "text/plain": [
       "<Figure size 432x288 with 2 Axes>"
      ]
     },
     "metadata": {
      "needs_background": "light"
     },
     "output_type": "display_data"
    },
    {
     "data": {
      "image/png": "[encoded data removed]",
      "text/plain": [
       "<Figure size 432x288 with 1 Axes>"
      ]
     },
     "metadata": {
      "needs_background": "light"
     },
     "output_type": "display_data"
    },
    {
     "data": {
      "image/png": "[encoded data removed]",
      "text/plain": [
       "<Figure size 432x288 with 1 Axes>"
      ]
     },
     "metadata": {
      "needs_background": "light"
     },
     "output_type": "display_data"
    }
   ],
   "source": [
    "mean1 = np.array([1,0])\n",
    "sig1 = np.diag([0.5, 0.5])\n",
    "mean2 = np.array([1, 2])\n",
    "sig2 = np.diag([0.005, 0.005])\n",
    "first = np.random.multivariate_normal(mean1, sig1, 2)\n",
    "second = np.random.multivariate_normal(mean2, sig2, 10)\n",
    "data = np.concatenate((first, second))\n",
    "just_last = True #parameter, if we only want to draw last\n",
    "ret = EM(data, K, n_iter = n_iter, return_all_iterations=True)\n",
    "plotting(ret, just_last)"
   ]
  },
  {
   "cell_type": "markdown",
   "metadata": {},
   "source": [
    "### 2 Visualization of the proof"
   ]
  },
  {
   "cell_type": "markdown",
   "metadata": {},
   "source": [
    "To visualize the proof, we would like to plot the functions $\\mathcal{L}(q,\\theta)$ and $\\ln p(X|\\theta)$ in the same graph. For gaussian mixtures, these parameters are defined as \n",
    "\n",
    "$\\mathcal{L}(q,\\theta)=\\mathcal{L}(q,(\\mu,\\Sigma,\\pi))=\\sum\\limits_Zq(Z)\\ln \\frac{p(X,Z|\\theta)}{q(Z)}=\\sum\\limits_{n = 1}^N \\sum\\limits_{k = 1}^K \\gamma_{n k} \\ln\\left(\\pi_k \\mathcal{N}(x_n ~ | ~ \\mu_k, \\Sigma_k)/\\gamma_{n k}\\right).$\n",
    "\n",
    "For the last equality, we have used the calculation in Chapter 4.2 and a comparison of coefficients. We have also shown that the log likelihood function is given by\n",
    "\n",
    "$\\ln(L) = \\ln\\left(\\prod_{n = 1}^N \\sum_{k = 1}^K \\pi_k \\mathcal{N}(x_n ~ | ~ \\mu_k, \\Sigma_k)\\right) = \\sum_{n = 1}^N \\ln\\left(\\sum_{k = 1}^K \\pi_k \\mathcal{N}(x_n ~ | ~ \\mu_k, \\Sigma_k)\\right)$\n",
    "\n",
    "To be able to plot these functions in the same graph, we assume a 2-dimensional data set with three clusters:"
   ]
  },
  {
   "cell_type": "code",
   "execution_count": 13,
   "metadata": {},
   "outputs": [
    {
     "ename": "SyntaxError",
     "evalue": "invalid syntax (Temp/ipykernel_11520/2412019276.py, line 19)",
     "output_type": "error",
     "traceback": [
      "\u001b[1;36m  File \u001b[1;32m\"C:\\Users\\mrmar\\AppData\\Local\\Temp/ipykernel_11520/2412019276.py\"\u001b[1;36m, line \u001b[1;32m19\u001b[0m\n\u001b[1;33m    for n in range(N)\u001b[0m\n\u001b[1;37m                     ^\u001b[0m\n\u001b[1;31mSyntaxError\u001b[0m\u001b[1;31m:\u001b[0m invalid syntax\n"
     ]
    }
   ],
   "source": [
    "mu_1, mean2 = 0, 1\n",
    "sigma_1, sigma_2 = 1, 1\n",
    "first = np.random.normal(mu_1, sigma_1, 50)\n",
    "second = np.random.normal(mu_2, sigma_2, 50)\n",
    "data = np.concatenate((first, second))\n",
    "\n",
    "def one_d_normal(mu, sigma):\n",
    "    return 1/np.sqrt(2*np.pi)\n",
    "\n",
    "#### Initialization ####\n",
    "\n",
    "#Set all responsibilities to 1/2\n",
    "\n",
    "q = 0.5\n",
    "pi_1 = 0.5\n",
    "pi_2 = 0.5\n",
    "L = 0\n",
    "N = 100\n",
    "for n in range(N)\n",
    "    l = 0\n",
    "    for k in range(K)\n",
    "        l += pi_1 * \n",
    "        \n",
    "\n",
    "\n",
    "#data, K, m, n_iter, choice, first, second, xmin, xmax, ymin, ymax = Test_Cases(option)\n",
    "#just_last = True #parameter, if we only want to draw last\n",
    "#ret = EM(data, K, m, n_iter = n_iter, return_all_iterations=True, random_choice=choice)\n",
    "#ret[\"m\"]"
   ]
  }
 ],
 "metadata": {
  "kernelspec": {
   "display_name": "Python 3 (ipykernel)",
   "language": "python",
   "name": "python3"
  },
  "language_info": {
   "codemirror_mode": {
    "name": "ipython",
    "version": 3
   },
   "file_extension": ".py",
   "mimetype": "text/x-python",
   "name": "python",
   "nbconvert_exporter": "python",
   "pygments_lexer": "ipython3",
   "version": "3.8.10"
  }
 },
 "nbformat": 4,
 "nbformat_minor": 2
}
